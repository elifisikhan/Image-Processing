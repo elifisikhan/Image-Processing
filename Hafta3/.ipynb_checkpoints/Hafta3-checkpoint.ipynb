{
 "cells": [
  {
   "cell_type": "code",
   "execution_count": 1,
   "metadata": {},
   "outputs": [
    {
     "data": {
      "text/plain": [
       "['.ipynb_checkpoints', 'uludag.jfif', 'Untitled.ipynb']"
      ]
     },
     "execution_count": 1,
     "metadata": {},
     "output_type": "execute_result"
    }
   ],
   "source": [
    "import os\n",
    "os.getcwd()\n",
    "os.listdir()"
   ]
  },
  {
   "cell_type": "code",
   "execution_count": 2,
   "metadata": {},
   "outputs": [
    {
     "data": {
      "text/plain": [
       "(3.3, 2.2333333333333334)"
      ]
     },
     "execution_count": 2,
     "metadata": {},
     "output_type": "execute_result"
    }
   ],
   "source": [
    "liste1=[2,4,3,4,5,6,3,3,2,1]\n",
    "def meanAndVariance(liste1=[2,4,3,4,5,6,3,3,2,1]):\n",
    "    t=0\n",
    "    s=0\n",
    "    for i in liste1:\n",
    "        s=s+1\n",
    "        t=t+i\n",
    "    mean_1=t/s\n",
    "    \n",
    "    t=0       \n",
    "    s=0\n",
    "    for i in liste1:\n",
    "        s=s+1\n",
    "        t=t+(i-mean_1)*(i-mean_1)\n",
    "    var_1=t/(s-1)\n",
    "    \n",
    "    return mean_1,var_1\n",
    "meanAndVariance()"
   ]
  },
  {
   "cell_type": "code",
   "execution_count": 3,
   "metadata": {},
   "outputs": [
    {
     "data": {
      "text/plain": [
       "{2: 2, 4: 2, 3: 3, 5: 1, 6: 1, 1: 1}"
      ]
     },
     "execution_count": 3,
     "metadata": {},
     "output_type": "execute_result"
    }
   ],
   "source": [
    "my_histogram={}\n",
    "for i in liste1:\n",
    "    if i in my_histogram.keys():\n",
    "        my_histogram[i]=my_histogram[i]+1\n",
    "    else:\n",
    "        my_histogram[i]=1\n",
    "my_histogram"
   ]
  },
  {
   "cell_type": "code",
   "execution_count": 4,
   "metadata": {},
   "outputs": [
    {
     "name": "stdout",
     "output_type": "stream",
     "text": [
      "2 2\n",
      "4 2\n",
      "3 3\n",
      "5 1\n",
      "6 1\n",
      "1 1\n"
     ]
    }
   ],
   "source": [
    "for i in my_histogram.keys():\n",
    "    print(i,my_histogram[i])"
   ]
  },
  {
   "cell_type": "code",
   "execution_count": 5,
   "metadata": {},
   "outputs": [],
   "source": [
    "import matplotlib.pyplot as plt\n",
    "import numpy as np"
   ]
  },
  {
   "cell_type": "code",
   "execution_count": 8,
   "metadata": {},
   "outputs": [],
   "source": [
    "image_1=plt.imread('uludag.jfif')"
   ]
  },
  {
   "cell_type": "code",
   "execution_count": 9,
   "metadata": {},
   "outputs": [],
   "source": [
    "def histogramFunc(image_1=plt.imread('uludag.jfif')):\n",
    "    m,n,p=image_1.shape\n",
    "    my_histogram={}\n",
    "    for i in range(m):\n",
    "        for j in range(n):\n",
    "            if image_1[i,j,0] in my_histogram.keys():\n",
    "                my_histogram[image_1[i,j,0]]=my_histogram[image_1[i,j,0]]+1\n",
    "            else:\n",
    "                my_histogram[image_1[i,j,0]]=1\n",
    "    return my_histogram"
   ]
  },
  {
   "cell_type": "code",
   "execution_count": 10,
   "metadata": {},
   "outputs": [],
   "source": [
    "def histogramiUygunHaleGetir(my_histogram=histogramFunc()):\n",
    "    x=[]\n",
    "    y=[]\n",
    "    for key in  my_histogram.keys():\n",
    "        x.append(key)\n",
    "        y.append(my_histogram[key])\n",
    "    return x,y"
   ]
  },
  {
   "cell_type": "code",
   "execution_count": 11,
   "metadata": {},
   "outputs": [
    {
     "data": {
      "image/png": "[encoded data removed]",
      "text/plain": [
       "<Figure size 432x288 with 1 Axes>"
      ]
     },
     "metadata": {
      "needs_background": "light"
     },
     "output_type": "display_data"
    }
   ],
   "source": [
    "x,y=histogramiUygunHaleGetir()\n",
    "plt.bar(x,y)\n",
    "plt.show()"
   ]
  },
  {
   "cell_type": "code",
   "execution_count": null,
   "metadata": {},
   "outputs": [],
   "source": []
  }
 ],
 "metadata": {
  "kernelspec": {
   "display_name": "Python 3",
   "language": "python",
   "name": "python3"
  },
  "language_info": {
   "codemirror_mode": {
    "name": "ipython",
    "version": 3
   },
   "file_extension": ".py",
   "mimetype": "text/x-python",
   "name": "python",
   "nbconvert_exporter": "python",
   "pygments_lexer": "ipython3",
   "version": "3.7.4"
  }
 },
 "nbformat": 4,
 "nbformat_minor": 2
}
